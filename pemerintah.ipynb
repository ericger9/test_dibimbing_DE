{
 "cells": [
  {
   "cell_type": "code",
   "execution_count": 4,
   "id": "38515979-7332-4580-ba73-80dfe405fe5f",
   "metadata": {},
   "outputs": [],
   "source": [
    "%run warga.ipynb"
   ]
  },
  {
   "cell_type": "code",
   "execution_count": 5,
   "id": "20828c0c-7f70-4a5e-ade1-bb3c2232e6bf",
   "metadata": {},
   "outputs": [],
   "source": [
    "class pemerintah(warga):\n",
    "    def __init__(self, nik, nama, status):\n",
    "        warga.__init__(self, nik, nama)\n",
    "        self.status = status"
   ]
  }
 ],
 "metadata": {
  "kernelspec": {
   "display_name": "Python 3 (ipykernel)",
   "language": "python",
   "name": "python3"
  },
  "language_info": {
   "codemirror_mode": {
    "name": "ipython",
    "version": 3
   },
   "file_extension": ".py",
   "mimetype": "text/x-python",
   "name": "python",
   "nbconvert_exporter": "python",
   "pygments_lexer": "ipython3",
   "version": "3.9.7"
  }
 },
 "nbformat": 4,
 "nbformat_minor": 5
}
