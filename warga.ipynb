{
 "cells": [
  {
   "cell_type": "code",
   "execution_count": 6,
   "id": "56045a32-0c6e-4645-ad0d-9612a567cf11",
   "metadata": {},
   "outputs": [],
   "source": [
    "class warga:\n",
    "    def __init__(self, nik, nama):\n",
    "        self.nik = nik\n",
    "        self.nama = nama\n",
    "    \n",
    "    def perkenalkan_diri(self):\n",
    "        print(f\"Halo, nama saya {self.nama}\")"
   ]
  },
  {
   "cell_type": "code",
   "execution_count": null,
   "id": "7e94bb46-c050-4cc3-b2eb-fb2ca16b08c1",
   "metadata": {},
   "outputs": [],
   "source": []
  }
 ],
 "metadata": {
  "kernelspec": {
   "display_name": "Python 3 (ipykernel)",
   "language": "python",
   "name": "python3"
  },
  "language_info": {
   "codemirror_mode": {
    "name": "ipython",
    "version": 3
   },
   "file_extension": ".py",
   "mimetype": "text/x-python",
   "name": "python",
   "nbconvert_exporter": "python",
   "pygments_lexer": "ipython3",
   "version": "3.9.7"
  }
 },
 "nbformat": 4,
 "nbformat_minor": 5
}
